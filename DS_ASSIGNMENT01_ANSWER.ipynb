{
 "cells": [
  {
   "cell_type": "code",
   "execution_count": null,
   "id": "a33ccf1e-265e-48c9-985e-c3e0299353a5",
   "metadata": {},
   "outputs": [],
   "source": [
    "#Data Science-Assignment September 13, 2024"
   ]
  },
  {
   "cell_type": "code",
   "execution_count": null,
   "id": "f4d63276-a3fe-476a-9019-334346d60cd2",
   "metadata": {},
   "outputs": [],
   "source": [
    "# Q1-convert 80 into float type"
   ]
  },
  {
   "cell_type": "code",
   "execution_count": 20,
   "id": "aa158d3a-be3b-40ba-ac51-5b290a2692b1",
   "metadata": {
    "tags": []
   },
   "outputs": [
    {
     "name": "stdout",
     "output_type": "stream",
     "text": [
      "80.0\n"
     ]
    }
   ],
   "source": [
    "num = 80\n",
    "float_num = float(num)\n",
    "print(float_num)"
   ]
  },
  {
   "cell_type": "code",
   "execution_count": null,
   "id": "e6b75045-af92-4726-a847-bd8122d60b16",
   "metadata": {},
   "outputs": [],
   "source": [
    "# Q2- convert 20.9 into a string and check its type"
   ]
  },
  {
   "cell_type": "code",
   "execution_count": 6,
   "id": "4465d1f7-125f-49fa-a12d-4516298ce830",
   "metadata": {
    "tags": []
   },
   "outputs": [
    {
     "name": "stdout",
     "output_type": "stream",
     "text": [
      "20.9\n",
      "<class 'str'>\n"
     ]
    }
   ],
   "source": [
    "num = 20.9\n",
    "str_num = str(num)\n",
    "print(str_num)  \n",
    "print(type(str_num))  # This will print the type of the variable"
   ]
  },
  {
   "cell_type": "code",
   "execution_count": null,
   "id": "1d02f3be-f048-4e49-8076-b6e52a509680",
   "metadata": {},
   "outputs": [],
   "source": [
    "# Q3convert a boolean valua into int"
   ]
  },
  {
   "cell_type": "code",
   "execution_count": 10,
   "id": "e7193e6b-f366-4013-88ad-bb5190590714",
   "metadata": {
    "tags": []
   },
   "outputs": [
    {
     "name": "stdout",
     "output_type": "stream",
     "text": [
      "1\n"
     ]
    }
   ],
   "source": [
    "bool_value = True  \n",
    "int_value = int(bool_value)\n",
    "print(int_value)"
   ]
  },
  {
   "cell_type": "code",
   "execution_count": 12,
   "id": "5c8206be-a26d-4ab8-9278-c56beda1d708",
   "metadata": {
    "tags": []
   },
   "outputs": [
    {
     "name": "stdout",
     "output_type": "stream",
     "text": [
      "0\n"
     ]
    }
   ],
   "source": [
    "bool_value = False  \n",
    "int_value = bool_value * 1  \n",
    "print(int_value)"
   ]
  },
  {
   "cell_type": "code",
   "execution_count": null,
   "id": "87f5358d-ab07-43b0-81f2-b86abc70a6a4",
   "metadata": {},
   "outputs": [],
   "source": [
    "# Q4-convert '123' into float"
   ]
  },
  {
   "cell_type": "code",
   "execution_count": 15,
   "id": "af9e1e5d-40f4-4c67-af22-5c0fc29e466c",
   "metadata": {
    "tags": []
   },
   "outputs": [
    {
     "name": "stdout",
     "output_type": "stream",
     "text": [
      "123.0\n"
     ]
    }
   ],
   "source": [
    "str_value = '123'\n",
    "float_value = float(str_value)\n",
    "print(float_value)"
   ]
  },
  {
   "cell_type": "code",
   "execution_count": null,
   "id": "d1c7f8ff-35e0-486d-83bc-6b620b6fb48c",
   "metadata": {},
   "outputs": [],
   "source": []
  },
  {
   "cell_type": "code",
   "execution_count": null,
   "id": "e3a7569b-53fc-4d41-8257-9ace27f4d606",
   "metadata": {},
   "outputs": [],
   "source": []
  },
  {
   "cell_type": "code",
   "execution_count": null,
   "id": "9ff5d26c-99c0-40b2-9a92-8441f1e54f6c",
   "metadata": {},
   "outputs": [],
   "source": []
  },
  {
   "cell_type": "code",
   "execution_count": null,
   "id": "4593fb34-d008-4df1-be66-6548ba3fbc9f",
   "metadata": {},
   "outputs": [],
   "source": []
  },
  {
   "cell_type": "code",
   "execution_count": null,
   "id": "176bbf7c-fa45-46f9-aecd-34d115bb630d",
   "metadata": {},
   "outputs": [],
   "source": [
    "# Q1. name = “sidharth anbumani”\n",
    "# Write code to print the last 4 characters from the name variable : “mani”"
   ]
  },
  {
   "cell_type": "code",
   "execution_count": 3,
   "id": "e2c739e1-4d1c-4df5-adf2-c6716b699911",
   "metadata": {
    "tags": []
   },
   "outputs": [
    {
     "name": "stdout",
     "output_type": "stream",
     "text": [
      "mani\n"
     ]
    }
   ],
   "source": [
    "name = \"sidharth anbumani\"\n",
    "last_four_chars = name[-4:]\n",
    "print(last_four_chars)"
   ]
  },
  {
   "cell_type": "code",
   "execution_count": null,
   "id": "6cf8b25d-14bc-4a64-a10c-d2c50b488388",
   "metadata": {},
   "outputs": [],
   "source": [
    "#Q2. ask the user to input his name then count the number of characters \n",
    "#Write code to print the number of characters in the user input\n"
   ]
  },
  {
   "cell_type": "code",
   "execution_count": 29,
   "id": "03387676-95fe-47e1-99c3-2250a5d22878",
   "metadata": {
    "tags": []
   },
   "outputs": [
    {
     "name": "stdin",
     "output_type": "stream",
     "text": [
      "Please enter your name:  Allan\n"
     ]
    },
    {
     "name": "stdout",
     "output_type": "stream",
     "text": [
      "Your name has 5 characters.\n"
     ]
    }
   ],
   "source": [
    "name = input(\"Please enter your name: \")\n",
    "num_characters = len(name)\n",
    "print(\"Your name has \" + str(num_characters) + \" characters.\")"
   ]
  },
  {
   "cell_type": "code",
   "execution_count": null,
   "id": "5d3288bc-5f2c-4199-ad67-cc85c8ef87af",
   "metadata": {},
   "outputs": [],
   "source": [
    "#Q3. Create an empty list. The name of the list is test."
   ]
  },
  {
   "cell_type": "code",
   "execution_count": 39,
   "id": "f572cf26-6690-44cd-8534-6a44b1827370",
   "metadata": {
    "tags": []
   },
   "outputs": [],
   "source": [
    "test = []"
   ]
  },
  {
   "cell_type": "code",
   "execution_count": null,
   "id": "adf2122c-5ea2-4eb2-9ac0-d068f1ed18dc",
   "metadata": {},
   "outputs": [],
   "source": [
    "#Q4.  create a string variable which stores the value \n",
    "#\"It is  always darkest before dawn.\" also write code to store the words in the sentence to a list "
   ]
  },
  {
   "cell_type": "code",
   "execution_count": 11,
   "id": "6d5920cc-4084-486a-8b85-b2ccd7d4811e",
   "metadata": {
    "tags": []
   },
   "outputs": [
    {
     "name": "stdout",
     "output_type": "stream",
     "text": [
      "['It', 'is', 'always', 'darkest', 'before', 'dawn.']\n"
     ]
    }
   ],
   "source": [
    "sentence = \"It is always darkest before dawn.\"\n",
    "words_list = sentence.split()\n",
    "print(words_list)"
   ]
  },
  {
   "cell_type": "code",
   "execution_count": 33,
   "id": "3782a6ce-f381-43ce-8554-3b392aacacd3",
   "metadata": {
    "tags": []
   },
   "outputs": [
    {
     "name": "stdout",
     "output_type": "stream",
     "text": [
      "The number of words in the sentence is: 6\n"
     ]
    }
   ],
   "source": [
    "sentence = \"It is always darkest before dawn.\"\n",
    "words_list = sentence.split()\n",
    "num_words = len(words_list)\n",
    "print(\"The number of words in the sentence is: \" + str(num_words))"
   ]
  },
  {
   "cell_type": "code",
   "execution_count": null,
   "id": "d8151998-2fdb-4efc-970a-5c59f21d9831",
   "metadata": {},
   "outputs": [],
   "source": [
    "#Q6. create a list named money \n",
    "#Money =[11, 100, 101, 999, 1001]\n",
    "#Write code to display the last 2 elements in the list\n"
   ]
  },
  {
   "cell_type": "code",
   "execution_count": 17,
   "id": "0adc8e84-b19c-48d7-8fbe-a320dabe9058",
   "metadata": {
    "tags": []
   },
   "outputs": [
    {
     "name": "stdout",
     "output_type": "stream",
     "text": [
      "[999, 1001]\n"
     ]
    }
   ],
   "source": [
    "money = [11, 100, 101, 999, 1001]\n",
    "last_two_elements = money[-2:]\n",
    "\n",
    "print(last_two_elements)"
   ]
  },
  {
   "cell_type": "code",
   "execution_count": null,
   "id": "af57ed0d-5ceb-4b42-bc1e-4c2f3a8ace7e",
   "metadata": {},
   "outputs": [],
   "source": [
    "#Q7. Using input() function, ask for the current year, then print the answer + 50.\n",
    "#Example : if the user input is 2022 then output should be 2072.\n"
   ]
  },
  {
   "cell_type": "code",
   "execution_count": 35,
   "id": "60b52abc-935e-4d17-9212-8584bb154e9c",
   "metadata": {
    "tags": []
   },
   "outputs": [
    {
     "name": "stdin",
     "output_type": "stream",
     "text": [
      "Please enter the current year:  2024\n"
     ]
    },
    {
     "name": "stdout",
     "output_type": "stream",
     "text": [
      "The year 50 years from now will be: 2074\n"
     ]
    }
   ],
   "source": [
    "current_year = int(input(\"Please enter the current year: \"))\n",
    "future_year = current_year + 50\n",
    "print(\"The year 50 years from now will be: \" + str(future_year))"
   ]
  },
  {
   "cell_type": "code",
   "execution_count": null,
   "id": "7d277506-fb0c-401d-baeb-203ff3afe535",
   "metadata": {},
   "outputs": [],
   "source": [
    "#Q9.  create a dictionary named countries\n",
    "Countries ={\"name\": \"Plato\", \"country\": \"Ancient Greece\", \"born\": -427, \"teacher\": \"Socrates\", \"student\": \"Aristotle\"}\n",
    "Write code to print the values ( only the values not the keys)\n"
   ]
  },
  {
   "cell_type": "code",
   "execution_count": 21,
   "id": "cbbe732b-5ac4-408e-8425-82d1a82aa6f4",
   "metadata": {
    "tags": []
   },
   "outputs": [
    {
     "name": "stdout",
     "output_type": "stream",
     "text": [
      "Plato\n",
      "Ancient Greece\n",
      "-427\n",
      "Socrates\n",
      "Aristotle\n"
     ]
    }
   ],
   "source": [
    "Countries = {\"name\": \"Plato\",\"country\": \"Ancient Greece\",\"born\": -427, \"teacher\": \"Socrates\",\"student\": \"Aristotle\"}\n",
    "for value in Countries.values():\n",
    "    print(value)"
   ]
  },
  {
   "cell_type": "code",
   "execution_count": null,
   "id": "59e88a9b-9ed8-48da-9993-8d86244b586b",
   "metadata": {},
   "outputs": [],
   "source": [
    "#Q10.\n",
    "#NFL=[\"Panthers\", \"Bears\", \"Dolphins\",  \"Patriots\", \"Saints\", \"Giants\"]\n",
    "#Create a list named NFL now print the items in the list in reverse order \n",
    "#Output : \"Giants\"\n",
    "# \"Saints\"\n",
    "#\"Patriots\"\n",
    "#\"Dolphins\"\n",
    "#\"Bears\"\n",
    "#\"Panthers\"\n"
   ]
  },
  {
   "cell_type": "code",
   "execution_count": 23,
   "id": "2da6211a-9e93-47e8-8041-ecfa8806a624",
   "metadata": {
    "tags": []
   },
   "outputs": [
    {
     "name": "stdout",
     "output_type": "stream",
     "text": [
      "Giants\n",
      "Saints\n",
      "Patriots\n",
      "Dolphins\n",
      "Bears\n",
      "Panthers\n"
     ]
    }
   ],
   "source": [
    "NFL = [\"Panthers\", \"Bears\", \"Dolphins\", \"Patriots\", \"Saints\", \"Giants\"]\n",
    "for team in reversed(NFL):\n",
    "    print(team)"
   ]
  },
  {
   "cell_type": "code",
   "execution_count": null,
   "id": "b089f7b7-98d7-44c5-bc61-5e3ac07c8622",
   "metadata": {},
   "outputs": [],
   "source": [
    "#Create a program that asks the user to enter their name and their age. Print out a message that tells them - they are old , adult , child.\n",
    "#Write a if conditional statement to classify the user as old or young or child\n",
    "#Old - when user input age is greater than 60\n",
    "#adult - when user input age is from 20 to 60\n",
    "#Child -  when user input age is below 20\n",
    "#Example 1 : user input name : sid , user input age : 36\n",
    "#Output : sid you are adult!\n",
    "#Example 2 : user input name : elvis , user input age : 16\n",
    "#Output : elvis you are child!\n"
   ]
  },
  {
   "cell_type": "code",
   "execution_count": 37,
   "id": "e21b5ecb-fe6e-4899-a6f4-9cb8fdc5a13c",
   "metadata": {
    "tags": []
   },
   "outputs": [
    {
     "name": "stdin",
     "output_type": "stream",
     "text": [
      "Please enter your name:  Allan\n",
      "Please enter your age:  40\n"
     ]
    },
    {
     "name": "stdout",
     "output_type": "stream",
     "text": [
      "Allan, you are adult!\n"
     ]
    }
   ],
   "source": [
    "name = input(\"Please enter your name: \")\n",
    "age = int(input(\"Please enter your age: \"))\n",
    "\n",
    "if age > 60:\n",
    "    category = \"old\"\n",
    "elif 20 <= age <= 60:\n",
    "    category = \"adult\"\n",
    "else:\n",
    "    category = \"child\"\n",
    "    \n",
    "print(name + \", you are \" + category + \"!\")\n"
   ]
  },
  {
   "cell_type": "code",
   "execution_count": null,
   "id": "d86d9043-59ff-42ee-9760-fef47c44d58a",
   "metadata": {},
   "outputs": [],
   "source": []
  }
 ],
 "metadata": {
  "kernelspec": {
   "display_name": "Python 3 (ipykernel)",
   "language": "python",
   "name": "python3"
  },
  "language_info": {
   "codemirror_mode": {
    "name": "ipython",
    "version": 3
   },
   "file_extension": ".py",
   "mimetype": "text/x-python",
   "name": "python",
   "nbconvert_exporter": "python",
   "pygments_lexer": "ipython3",
   "version": "3.11.7"
  }
 },
 "nbformat": 4,
 "nbformat_minor": 5
}
